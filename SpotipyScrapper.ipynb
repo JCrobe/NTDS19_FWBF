{
 "cells": [
  {
   "cell_type": "code",
   "execution_count": null,
   "metadata": {},
   "outputs": [],
   "source": [
    "import sys\n",
    "import pandas as pd\n",
    "import numpy as np\n",
    "import os\n",
    "import json\n",
    "from json.decoder import JSONDecodeError\n",
    "import spotipy\n",
    "import spotipy.util as util\n",
    "from spotipy.oauth2 import SpotifyClientCredentials"
   ]
  },
  {
   "cell_type": "markdown",
   "metadata": {},
   "source": [
    "<img src=\"FWBF_NTDS_Graphics.png\" alt=\"Alt text that describes the graphic\" title=\"FWBF_NTDS_Graphics\" />"
   ]
  },
  {
   "cell_type": "markdown",
   "metadata": {},
   "source": [
    "# The SpotipyScrapper"
   ]
  },
  {
   "cell_type": "markdown",
   "metadata": {},
   "source": [
    "#Here is the basis for scrapping the data using the [Spotipy](https://github.com/plamere/spotipy) python library that uses the potential of the [Spotify Web API](https://developer.spotify.com/documentation/web-api/) to access data. The goal of this script was to get the data from the ['Your top Songs of 2018'](spotifywrapped.com) Spotify playlists of 25 volunteer users. For convinience, the playlist were previously copied to one single account to ease the login process as the time was running. Creditentials are found on the [Spotify For Developer Page](https://developer.spotify.com/dashboard/) once the linked app or project is registred."
   ]
  },
  {
   "cell_type": "code",
   "execution_count": null,
   "metadata": {},
   "outputs": [],
   "source": [
    "# Initialization of the creditentials, accesible through Spotify For Developer Page\n",
    "client_id_JC='replace_by_your_cliend_id'\n",
    "client_secret_JC='replace_by_your_client_secret'\n",
    "redirect_uri_JC='replace_by_your_redirect_uri'"
   ]
  },
  {
   "cell_type": "code",
   "execution_count": null,
   "metadata": {},
   "outputs": [],
   "source": [
    "# Get the autorization token for the current session. Open a new windows to ask the user to log.\n",
    "if __name__ == '__main__':  \n",
    "    username = 'replace_by_the_desired_spotify_username'\n",
    "    scope = None\n",
    "    try:\n",
    "        token = util.prompt_for_user_token(username, scope,client_id = client_id_JC,client_secret = client_secret_JC, redirect_uri = redirect_uri_JC)\n",
    "    except (AttributeError, JSONDecodeError):\n",
    "        os.remove(f\".cache-{username}\")\n",
    "        token = util.prompt_for_user_token(username, scope,client_id = client_id_JC,client_secret = client_secret_JC, redirect_uri = redirect_uri_JC)\n",
    "    #token = util.prompt_for_user_token(username)\n",
    "    if token:\n",
    "        sp = spotipy.Spotify(auth=token)\n",
    "    else:\n",
    "        print(\"Can't get token for\", username)"
   ]
  },
  {
   "cell_type": "code",
   "execution_count": null,
   "metadata": {},
   "outputs": [],
   "source": [
    "#Function used mostly for debugging and data exploration before export.\n",
    "def show_tracks(results):\n",
    "    for i, item in enumerate(results['items']):\n",
    "        track = item['track']\n",
    "        print(\" %d , %32.32s , %s , %s , %d , %d, %d\" % (i+1, track['artists'][0]['name'], track['name'],track['album']['release_date'],track['disc_number'],track['popularity'],track['duration_ms']))\n",
    "\n",
    "#Function used to compile everything into a single csv file and save it properly.\n",
    "def save_tracks(tracks,playlist_name):\n",
    "    #tracks = results['tracks']\n",
    "    saved_tracks = pd.DataFrame(columns=['Playlist Origin'\n",
    "                                         ,'Playlist order'\n",
    "                                         ,'Artist'\n",
    "                                         ,'Track Name'\n",
    "                                         ,'Album Name'\n",
    "                                         ,'Album Release Date'\n",
    "                                         ,'Track Number'\n",
    "                                         ,'Track Popularity'\n",
    "                                         ,'Track Id'\n",
    "                                         ,'Track Duration MS'\n",
    "                                         ,'Danceability'\n",
    "                                         ,'Energy'\n",
    "                                         ,'Key'\n",
    "                                         ,'Loudness'\n",
    "                                         ,'Mode'\n",
    "                                         ,'Speechiness'\n",
    "                                         ,'Acousticness'\n",
    "                                         ,'Instrumentalness'\n",
    "                                         ,'Liveness'\n",
    "                                         ,'Valence'\n",
    "                                         ,'Tempo'\n",
    "                                         ,'Valence'\n",
    "                                         ,'Track_href'\n",
    "                                         ,'Time_signature'\n",
    "                                         ,'uri'\n",
    "                                         ,'Genres'])\n",
    "    for i, item in enumerate(tracks['items']):\n",
    "        track = item['track']\n",
    "        artist = []\n",
    "        artist = sp.artist(track['artists'][0]['id'])\n",
    "        \n",
    "        features = []\n",
    "        features = sp.audio_features(track['uri'])\n",
    "        saved_tracks.loc[i] = [playlist_name\n",
    "                               ,i+1\n",
    "                               ,track['artists'][0]['name']\n",
    "                               ,track['name']\n",
    "                               ,track['album']['name']\n",
    "                               ,track['album']['release_date']\n",
    "                               ,track['disc_number']\n",
    "                               ,track['popularity']\n",
    "                               ,track['id']\n",
    "                               ,track['duration_ms']\n",
    "                               ,features[0]['danceability']\n",
    "                               ,features[0]['energy']\n",
    "                               ,features[0]['key']\n",
    "                               ,features[0]['loudness']\n",
    "                               ,features[0]['mode']\n",
    "                               ,features[0]['speechiness']\n",
    "                               ,features[0]['acousticness']\n",
    "                               ,features[0]['instrumentalness']\n",
    "                               ,features[0]['liveness']\n",
    "                               ,features[0]['valence']\n",
    "                               ,features[0]['tempo']\n",
    "                               ,features[0]['valence']\n",
    "                               ,features[0]['track_href']\n",
    "                               ,features[0]['time_signature']\n",
    "                               ,features[0]['uri']\n",
    "                               ,artist['genres']]\n",
    "    file_name = 'user_data/'+playlist_name+'.csv'\n",
    "    saved_tracks.to_csv(file_name, sep=';')\n",
    "    return saved_tracks"
   ]
  },
  {
   "cell_type": "markdown",
   "metadata": {},
   "source": [
    "<div class=\"alert alert-block alert-warning\">\n",
    "<font color='#B8860B'>\n",
    "<b>Note</b>\n",
    "</font>\n",
    "<font color='black'>\n",
    "<br> For more information about the audio features of the songs and their meaning, please visit the [corresponding page](https://developer.spotify.com/documentation/web-api/reference/tracks/get-audio-features/) or the global [Spotify Web API](https://developer.spotify.com/documentation/web-api/).\n",
    "</font>\n",
    "</div>"
   ]
  },
  {
   "cell_type": "code",
   "execution_count": null,
   "metadata": {},
   "outputs": [],
   "source": [
    "#Get the list of all the public playlist of the given user\n",
    "playlists = sp.user_playlists(username)\n",
    "playlist_dataframe = pd.DataFrame(columns=['Playlist name','Playlist uri','Playlist Id'])\n",
    "\n",
    "#Print them:\n",
    "while playlists:\n",
    "    for i, playlist in enumerate(playlists['items']):\n",
    "        playlist_dataframe.loc[i] = [playlist['name'],playlist['uri'],playlist['id']]\n",
    "        print(\"%4d %s %s %s\" % (i ,playlist['name'], playlist['id'], playlist['uri']))\n",
    "    if playlists['next']:\n",
    "        playlists = sp.next(playlists)\n",
    "    else:\n",
    "        playlists = None"
   ]
  },
  {
   "cell_type": "code",
   "execution_count": null,
   "metadata": {},
   "outputs": [],
   "source": [
    "#Save tracks for a single playlist ID:\n",
    "def track_savior(playlist_id):\n",
    "    playlist = sp.user_playlist(username,playlist_id=playlist_id)\n",
    "    if playlist['owner']['id'] == username:\n",
    "        print('To save: ',playlist['name'])\n",
    "        print('Number of tracks', playlist['tracks']['total'])\n",
    "        results = sp.user_playlist(username, playlist['id'], fields=\"tracks,next\")\n",
    "        tracks = results['tracks']\n",
    "        saved_tracks = save_tracks(tracks,playlist['name'])"
   ]
  },
  {
   "cell_type": "code",
   "execution_count": null,
   "metadata": {},
   "outputs": [],
   "source": [
    "#Save tracks for a single playlist of choice among the available one:\n",
    "def single_playlist_savior():\n",
    "    print('Which playlist do you want?')\n",
    "    print(playlist_dataframe['Playlist name'])\n",
    "    selected_one = int(input())\n",
    "    chosen_playlist_id = playlist_dataframe.loc[selected_one,\"Playlist Id\"]\n",
    "    print('You chose the', playlist_dataframe.loc[selected_one,\"Playlist name\"], 'playlist')\n",
    "    file_list = os.listdir('user_data')\n",
    "    if any(playlist_dataframe.loc[selected_one,\"Playlist name\"] in s for s in file_list):\n",
    "        print(playlist_dataframe.loc[selected_one,\"Playlist name\"],'is already done!')\n",
    "        print('Overwrite?')\n",
    "        yes_no = input()\n",
    "        if ((yes_no.lower() == 'y') or (yes_no.lower() == 'yes')):\n",
    "            track_savior(chosen_playlist_id)\n",
    "    else:\n",
    "        track_savior(chosen_playlist_id)\n",
    "    #print('The ID is :', playlist_dataframe.loc[selected_one,\"Playlist Id\"])"
   ]
  },
  {
   "cell_type": "code",
   "execution_count": null,
   "metadata": {},
   "outputs": [],
   "source": [
    "single_playlist_savior()"
   ]
  },
  {
   "cell_type": "code",
   "execution_count": null,
   "metadata": {},
   "outputs": [],
   "source": [
    "#Iterate through the list of playlist and save the one that are not already done. In case of overwriting, use single playlist saviour\n",
    "for i in range(0,len(playlist_dataframe)):\n",
    "    chosen_playlist_id = playlist_dataframe.loc[i,\"Playlist Id\"]\n",
    "    file_list = os.listdir('user_data')\n",
    "    if any(playlist_dataframe.loc[i,\"Playlist name\"] in s for s in file_list):\n",
    "        print(playlist_dataframe.loc[i,\"Playlist name\"],'is already done!')\n",
    "    else:\n",
    "        print('Processing the', playlist_dataframe.loc[i,\"Playlist name\"], 'playlist')\n",
    "        print('whose ID is :', playlist_dataframe.loc[i,\"Playlist Id\"])\n",
    "        track_savior(chosen_playlist_id)"
   ]
  },
  {
   "cell_type": "markdown",
   "metadata": {},
   "source": [
    "<div class=\"alert alert-block alert-warning\">\n",
    "<font color='#B8860B'>\n",
    "<b>Note</b>\n",
    "</font>\n",
    "<font color='black'>\n",
    "<br> Now, every public playlist of the desired user is saved with the given features into a .csv file. For data processing, see the FWBF notebook. An huge thanks to the contributors of the Spotipy Library, especially the [exemple](https://github.com/plamere/spotipy/tree/master/examples) section, may the music God be good with you!\n",
    "</font>\n",
    "</div>"
   ]
  },
  {
   "cell_type": "code",
   "execution_count": null,
   "metadata": {},
   "outputs": [],
   "source": []
  }
 ],
 "metadata": {
  "kernelspec": {
   "display_name": "Python 3",
   "language": "python",
   "name": "python3"
  },
  "language_info": {
   "codemirror_mode": {
    "name": "ipython",
    "version": 3
   },
   "file_extension": ".py",
   "mimetype": "text/x-python",
   "name": "python",
   "nbconvert_exporter": "python",
   "pygments_lexer": "ipython3",
   "version": "3.6.5"
  }
 },
 "nbformat": 4,
 "nbformat_minor": 2
}
